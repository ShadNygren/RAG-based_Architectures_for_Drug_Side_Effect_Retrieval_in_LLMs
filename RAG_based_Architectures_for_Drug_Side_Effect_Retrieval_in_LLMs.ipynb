{
  "cells": [
    {
      "cell_type": "markdown",
      "metadata": {
        "id": "view-in-github",
        "colab_type": "text"
      },
      "source": [
        "<a href=\"https://colab.research.google.com/github/ShadNygren/RAG-based_Architectures_for_Drug_Side_Effect_Retrieval_in_LLMs/blob/main/RAG_based_Architectures_for_Drug_Side_Effect_Retrieval_in_LLMs.ipynb\" target=\"_parent\"><img src=\"https://colab.research.google.com/assets/colab-badge.svg\" alt=\"Open In Colab\"/></a>"
      ]
    },
    {
      "cell_type": "markdown",
      "metadata": {
        "id": "aFYFmbj-EAkg"
      },
      "source": [
        "\n",
        "# ***** Assessment of LLMs for drug side effect identification *****\n",
        "\n",
        "\n"
      ]
    },
    {
      "cell_type": "markdown",
      "source": [
        "# ===== Load the basic libraries ====="
      ],
      "metadata": {
        "id": "NNmjlFEhG1qd"
      }
    },
    {
      "cell_type": "code",
      "execution_count": null,
      "metadata": {
        "collapsed": true,
        "id": "qSFzfhgwJ5dH"
      },
      "outputs": [],
      "source": [
        "# essentials\n",
        "import sys\n",
        "import pandas as pd\n",
        "import numpy as np\n",
        "\n",
        "# plotting\n",
        "import matplotlib.pyplot as plt\n",
        "import seaborn as sns\n",
        "\n",
        "from tqdm import tqdm"
      ]
    },
    {
      "cell_type": "markdown",
      "source": [
        "# ===== pip install libraries ====="
      ],
      "metadata": {
        "id": "fqQZvS7hKDgb"
      }
    },
    {
      "cell_type": "code",
      "execution_count": null,
      "metadata": {
        "id": "U_qDM7TQJ5dK"
      },
      "outputs": [],
      "source": [
        "%pip install langchain"
      ]
    },
    {
      "cell_type": "code",
      "source": [
        "from torch import cuda, bfloat16\n",
        "import torch\n",
        "import transformers\n",
        "from transformers import AutoTokenizer\n",
        "from time import time\n",
        "#import chromadb\n",
        "#from chromadb.config import Settings\n",
        "#\n",
        "# Comment out 2024-08-10\n",
        "#from langchain.llms import HuggingFacePipeline\n",
        "#from langchain.document_loaders import TextLoader\n",
        "from langchain.text_splitter import RecursiveCharacterTextSplitter\n",
        "#from langchain.embeddings import HuggingFaceEmbeddings\n",
        "from langchain.chains import RetrievalQA\n",
        "#from langchain.vectorstores import Chroma"
      ],
      "metadata": {
        "id": "YGz2v4E7KCUK"
      },
      "execution_count": null,
      "outputs": []
    },
    {
      "cell_type": "markdown",
      "source": [
        "# ===== Google Cloud Secrets Manager ====="
      ],
      "metadata": {
        "id": "m-ZAXZZabaeL"
      }
    },
    {
      "cell_type": "code",
      "source": [
        "# Install the Secret Manager Client Library\n",
        "\n",
        "%pip install google-cloud-secret-manager"
      ],
      "metadata": {
        "id": "ZkVND3FSbh97"
      },
      "execution_count": null,
      "outputs": []
    },
    {
      "cell_type": "code",
      "source": [
        "# Authenticate with Google Cloud\n",
        "\n",
        "from google.colab import auth as google_auth\n",
        "google_auth.authenticate_user()"
      ],
      "metadata": {
        "id": "DJxcmaOmbx7C"
      },
      "execution_count": null,
      "outputs": []
    },
    {
      "cell_type": "code",
      "source": [
        "from google.auth import default\n",
        "from google.auth.transport.requests import Request\n",
        "\n",
        "# Get the current credentials and project\n",
        "credentials, project_id = default()\n",
        "\n",
        "# Refresh the credentials (optional, but ensures they're up to date)\n",
        "credentials.refresh(Request())\n",
        "\n",
        "# Print the account email\n",
        "print(f\"Authenticated as: {credentials.service_account_email or credentials.client_email}\")\n"
      ],
      "metadata": {
        "id": "PVsz5S7b_rET"
      },
      "execution_count": null,
      "outputs": []
    },
    {
      "cell_type": "code",
      "source": [
        "from google.cloud import secretmanager\n",
        "from google.api_core.exceptions import NotFound, PermissionDenied, GoogleAPIError\n",
        "\n",
        "def get_secret_value_from_google_cloud_old(project_id: str, secret_id: str, version_id: str = 'latest') -> str:\n",
        "    \"\"\"\n",
        "    Retrieves the value of a secret from Google Cloud Secret Manager.\n",
        "\n",
        "    Args:\n",
        "        project_id (str): The ID of the Google Cloud project.\n",
        "        secret_id (str): The ID of the secret in Secret Manager.\n",
        "        version_id (str): The version of the secret to retrieve. Defaults to 'latest'.\n",
        "\n",
        "    Returns:\n",
        "        str: The secret value decoded as a UTF-8 string.\n",
        "\n",
        "    Raises:\n",
        "        ValueError: If the secret value cannot be retrieved.\n",
        "        NotFound: If the specified secret version does not exist.\n",
        "        PermissionDenied: If the caller does not have permission to access the secret.\n",
        "        GoogleAPIError: For other API-related errors.\n",
        "    \"\"\"\n",
        "    try:\n",
        "        # Initialize the Secret Manager Client\n",
        "        client = secretmanager.SecretManagerServiceClient()\n",
        "\n",
        "        # Build the resource name of the project_id and secret_id and version_id\n",
        "        secret_name = client.secret_version_path(project_id, secret_id, version_id)\n",
        "\n",
        "        # Access the Secret Version\n",
        "        response = client.access_secret_version(request={\"name\": secret_name})\n",
        "\n",
        "        # Extract and return the Secret Value\n",
        "        secret_value = response.payload.data.decode('UTF-8')\n",
        "        return secret_value\n",
        "\n",
        "    except NotFound as e:\n",
        "        raise ValueError(f\"The specified secret '{secret_id}' version '{version_id}' was not found in project '{project_id}'.\") from e\n",
        "    except PermissionDenied as e:\n",
        "        raise ValueError(f\"Permission denied when accessing secret '{secret_id}' version '{version_id}' in project '{project_id}'.\") from e\n",
        "    except GoogleAPIError as e:\n",
        "        raise ValueError(f\"Failed to access the secret due to a Google API error: {e}\") from e\n",
        "    except Exception as e:\n",
        "        raise ValueError(f\"An unexpected error occurred: {e}\") from e\n"
      ],
      "metadata": {
        "id": "iDS-YUmMdsS7"
      },
      "execution_count": null,
      "outputs": []
    },
    {
      "cell_type": "code",
      "source": [
        "import logging\n",
        "from google.cloud import secretmanager\n",
        "from google.auth import default\n",
        "from google.auth.transport.requests import Request\n",
        "from google.api_core.exceptions import NotFound, PermissionDenied, GoogleAPIError\n",
        "\n",
        "# Set up detailed logging\n",
        "logging.basicConfig(level=logging.DEBUG, format='%(asctime)s - %(levelname)s - %(message)s')\n",
        "\n",
        "def get_secret_value_from_google_cloud_debug_logging(project_id: str, secret_id: str, version_id: str = 'latest') -> str:\n",
        "    \"\"\"\n",
        "    Retrieves the value of a secret from Google Cloud Secret Manager with extensive logging.\n",
        "\n",
        "    Args:\n",
        "        project_id (str): The ID of the Google Cloud project.\n",
        "        secret_id (str): The ID of the secret in Secret Manager.\n",
        "        version_id (str): The version of the secret to retrieve. Defaults to 'latest'.\n",
        "\n",
        "    Returns:\n",
        "        str: The secret value decoded as a UTF-8 string.\n",
        "\n",
        "    Raises:\n",
        "        ValueError: If the secret value cannot be retrieved.\n",
        "        NotFound: If the specified secret version does not exist.\n",
        "        PermissionDenied: If the caller does not have permission to access the secret.\n",
        "        GoogleAPIError: For other API-related errors.\n",
        "    \"\"\"\n",
        "    try:\n",
        "        # Initialize the Secret Manager Client\n",
        "        client = secretmanager.SecretManagerServiceClient()\n",
        "\n",
        "        # Log authentication details\n",
        "        credentials, project_id_default = default()\n",
        "        logging.debug(f\"Authenticated with project_id: {project_id_default}\")\n",
        "        logging.debug(f\"Credentials: {credentials}\")\n",
        "        logging.debug(f\"Using service account: {credentials.service_account_email or 'None'}\")\n",
        "\n",
        "        # Build the resource name\n",
        "        secret_name = client.secret_version_path(project_id, secret_id, version_id)\n",
        "        logging.debug(f\"Attempting to access Secret: {secret_name}\")\n",
        "\n",
        "        # Access the Secret Version\n",
        "        response = client.access_secret_version(request={\"name\": secret_name})\n",
        "        logging.debug(f\"Successfully accessed Secret: {secret_name}\")\n",
        "\n",
        "        # Extract and return the Secret Value\n",
        "        secret_value = response.payload.data.decode('UTF-8')\n",
        "        return secret_value\n",
        "\n",
        "    except NotFound as e:\n",
        "        logging.error(f\"Secret '{secret_id}' version '{version_id}' not found in project '{project_id}'. Exception: {e}\")\n",
        "        raise ValueError(f\"The specified secret '{secret_id}' version '{version_id}' was not found in project '{project_id}'.\") from e\n",
        "    except PermissionDenied as e:\n",
        "        logging.error(f\"Permission denied when accessing secret '{secret_id}' version '{version_id}' in project '{project_id}'.\")\n",
        "        logging.error(f\"Credentials: {credentials}\")\n",
        "        logging.error(f\"Authenticated as: {credentials.service_account_email or 'User credentials'}\")\n",
        "        logging.error(f\"Make sure the account has the necessary IAM roles (e.g., Secret Manager Secret Accessor).\")\n",
        "        logging.error(f\"Google API Error: {e}\")\n",
        "        raise ValueError(f\"Permission denied when accessing secret '{secret_id}' version '{version_id}' in project '{project_id}'.\") from e\n",
        "    except GoogleAPIError as e:\n",
        "        logging.error(f\"Failed to access the secret due to a Google API error: {e}\")\n",
        "        raise ValueError(f\"Failed to access the secret due to a Google API error: {e}\") from e\n",
        "    except Exception as e:\n",
        "        logging.error(f\"An unexpected error occurred: {e}\")\n",
        "        raise ValueError(f\"An unexpected error occurred: {e}\") from e\n",
        "\n",
        "# Example usage (replace with your actual values):\n",
        "# secret_value = get_secret_value_from_google_cloud('DrugSideEffects', 'OPENAI_API_KEY')\n",
        "# print(secret_value)\n"
      ],
      "metadata": {
        "id": "DcWxowSRB0nr"
      },
      "execution_count": null,
      "outputs": []
    },
    {
      "cell_type": "code",
      "source": [
        "import google.auth\n",
        "from google.auth.transport.requests import Request\n",
        "from google.cloud import secretmanager\n",
        "\n",
        "def get_secret_value_from_google_cloud(project_id: str, secret_id: str, version_id: str = 'latest') -> str:\n",
        "    \"\"\"\n",
        "    Retrieves the value of a secret from Google Cloud Secret Manager using explicit user credentials.\n",
        "\n",
        "    Args:\n",
        "        project_id (str): The ID of the Google Cloud project.\n",
        "        secret_id (str): The ID of the secret in Secret Manager.\n",
        "        version_id (str): The version of the secret to retrieve. Defaults to 'latest'.\n",
        "\n",
        "    Returns:\n",
        "        str: The secret value decoded as a UTF-8 string.\n",
        "\n",
        "    Raises:\n",
        "        ValueError: If the secret value cannot be retrieved.\n",
        "        NotFound: If the specified secret version does not exist.\n",
        "        PermissionDenied: If the caller does not have permission to access the secret.\n",
        "        GoogleAPIError: For other API-related errors.\n",
        "    \"\"\"\n",
        "    try:\n",
        "        # Load explicit credentials and refresh them to ensure they're up to date\n",
        "        credentials, project = google.auth.default()\n",
        "        credentials.refresh(Request())\n",
        "\n",
        "        # Log the authenticated account\n",
        "        logging.debug(f\"Authenticated as: {credentials.service_account_email or credentials.client_email}\")\n",
        "        # Print the account email\n",
        "        print(f\"Authenticated as: {credentials.service_account_email or credentials.client_email}\")\n",
        "        print(f\"Project ID: {project}\")\n",
        "        #print(f\"Project ID: {project_id}\n",
        "\n",
        "        # Initialize the Secret Manager Client with explicit credentials\n",
        "        client = secretmanager.SecretManagerServiceClient(credentials=credentials)\n",
        "\n",
        "        # Log the authenticated account\n",
        "        logging.debug(f\"Using credentials: {credentials}\")\n",
        "        logging.debug(f\"Authenticated as: {credentials.service_account_email or credentials.client_email}\")\n",
        "\n",
        "        # Build the resource name\n",
        "        secret_name = client.secret_version_path(project_id, secret_id, version_id)\n",
        "        logging.debug(f\"Attempting to access Secret: {secret_name}\")\n",
        "\n",
        "        # Access the Secret Version\n",
        "        response = client.access_secret_version(request={\"name\": secret_name})\n",
        "        logging.debug(f\"Successfully accessed Secret: {secret_name}\")\n",
        "\n",
        "        # Extract and return the Secret Value\n",
        "        secret_value = response.payload.data.decode('UTF-8')\n",
        "        return secret_value\n",
        "\n",
        "    except NotFound as e:\n",
        "        logging.error(f\"Secret '{secret_id}' version '{version_id}' not found in project '{project_id}'. Exception: {e}\")\n",
        "        raise ValueError(f\"The specified secret '{secret_id}' version '{version_id}' was not found in project '{project_id}'.\") from e\n",
        "    except PermissionDenied as e:\n",
        "        logging.error(f\"Permission denied when accessing secret '{secret_id}' version '{version_id}' in project '{project_id}'.\")\n",
        "        logging.error(f\"Credentials: {credentials}\")\n",
        "        logging.error(f\"Authenticated as: {credentials.service_account_email or 'User credentials'}\")\n",
        "        logging.error(f\"Make sure the account has the necessary IAM roles (e.g., Secret Manager Secret Accessor).\")\n",
        "        logging.error(f\"Google API Error: {e}\")\n",
        "        raise ValueError(f\"Permission denied when accessing secret '{secret_id}' version '{version_id}' in project '{project_id}'.\") from e\n",
        "    except GoogleAPIError as e:\n",
        "        logging.error(f\"Failed to access the secret due to a Google API error: {e}\")\n",
        "        raise ValueError(f\"Failed to access the secret due to a Google API error: {e}\") from e\n",
        "    except Exception as e:\n",
        "        logging.error(f\"An unexpected error occurred: {e}\")\n",
        "        raise ValueError(f\"An unexpected error occurred: {e}\") from e\n",
        "\n",
        "# Example usage\n",
        "# secret_value = get_secret_value_from_google_cloud('DrugSideEffects', 'OPENAI_API_KEY')\n",
        "# print(secret_value)\n"
      ],
      "metadata": {
        "id": "i3AlnsppFG5V"
      },
      "execution_count": null,
      "outputs": []
    },
    {
      "cell_type": "markdown",
      "source": [
        "# ===== API Keys ====="
      ],
      "metadata": {
        "id": "PseprFNi6Bjx"
      }
    },
    {
      "cell_type": "code",
      "source": [
        "#from google.colab import userdata"
      ],
      "metadata": {
        "id": "q3YxiGMQoPNq"
      },
      "execution_count": null,
      "outputs": []
    },
    {
      "cell_type": "code",
      "source": [
        "import os\n",
        "\n",
        "#os.environ['OPENAI_API_KEY'] = userdata.get('OPENAI_API_KEY')\n",
        "os.environ['OPENAI_API_KEY'] = get_secret_value_from_google_cloud(project_id='995753152222', secret_id='OPENAI_API_KEY_DrugSideEffects', version_id='latest')\n",
        "\n",
        "#PINECONE_API_KEY = userdata.get('PINECONE_API_KEY')\n",
        "PINECONE_API_KEY = get_secret_value_from_google_cloud(project_id='995753152222', secret_id='PINECONE_API_KEY', version_id='latest')\n",
        "#os.environ[\"PINECONE_API_KEY\"] = userdata.get('PINECONE_API_KEY')\n",
        "os.environ[\"PINECONE_API_KEY\"] = PINECONE_API_KEY\n",
        "#PINECONE_ENV = 'us-west2-aws'\n",
        "\n",
        "#from huggingface_hub import login\n",
        "#mytoken = userdata.get('HF_TOKEN')\n",
        "#login(mytoken)"
      ],
      "metadata": {
        "id": "eOHAW7WXKQOk"
      },
      "execution_count": null,
      "outputs": []
    },
    {
      "cell_type": "code",
      "source": [
        "os.environ[\"NEO4J_URI\"] = get_secret_value_from_google_cloud(project_id='995753152222', secret_id='NEO4J_URI_Diego', version_id='latest')\n",
        "os.environ[\"NEO4J_USERNAME\"] = get_secret_value_from_google_cloud(project_id='995753152222', secret_id='NEO4J_USERNAME_Diego', version_id='latest')\n",
        "os.environ[\"NEO4J_PASSWORD\"] = get_secret_value_from_google_cloud(project_id='995753152222', secret_id='NEO4J_PASSWORD_Diego', version_id='latest')"
      ],
      "metadata": {
        "id": "-1XoKjHxmibV"
      },
      "execution_count": null,
      "outputs": []
    },
    {
      "cell_type": "code",
      "source": [
        "AWS_BEDROCK_URL = get_secret_value_from_google_cloud(project_id='995753152222', secret_id='AWS_BEDROCK_URL', version_id='latest')"
      ],
      "metadata": {
        "id": "ixStX9lqVyA3"
      },
      "execution_count": null,
      "outputs": []
    },
    {
      "cell_type": "markdown",
      "source": [
        "# ===== Connect to Google Drive and define the root directory ====="
      ],
      "metadata": {
        "id": "uZi8nS_5KOqR"
      }
    },
    {
      "cell_type": "code",
      "source": [
        "from google.colab import userdata"
      ],
      "metadata": {
        "id": "EcR_pEvnBWAy"
      },
      "execution_count": null,
      "outputs": []
    },
    {
      "cell_type": "code",
      "source": [
        "# access to files in drive\n",
        "from google.colab import drive\n",
        "drive.mount('/content/drive')"
      ],
      "metadata": {
        "id": "2nx4xDqVHWk_"
      },
      "execution_count": null,
      "outputs": []
    },
    {
      "cell_type": "code",
      "source": [
        "root_dir = userdata.get('DrugSideEffects_Root_Dir')"
      ],
      "metadata": {
        "id": "CiWUWt5knvqJ"
      },
      "execution_count": null,
      "outputs": []
    },
    {
      "cell_type": "markdown",
      "source": [
        "# ===== Define the model, the device ====="
      ],
      "metadata": {
        "id": "vBb4odJQnjvb"
      }
    },
    {
      "cell_type": "code",
      "source": [
        "# This is not currently being used to select the model\n",
        "# The Bedrock Lambda should be modified to accept different LLM models\n",
        "# Currently the Bedrock Lambda is using Llama-3-8B-Instruct\n",
        "models2test = [\"meta-llama/Meta-Llama-3-8B-Instruct\", \"ShadNygren/FineTuneTest-DrugAdverseEffects-SIDER-Diego1-50epochs-then-Diego2-10epochs\", \"ShadNygren/FineTuneTest-DrugAdverseEffects-SIDER-Diego1-50epochs\", \"ShadNygren/FineTuneTest-DrugAdverseEffects-SIDER-Diego2-10epochs\"]\n",
        "model_selected = 0\n",
        "model_id = models2test[model_selected] # we need to run this for each model"
      ],
      "metadata": {
        "id": "zNlKOemQChBr"
      },
      "execution_count": null,
      "outputs": []
    },
    {
      "cell_type": "markdown",
      "source": [
        "# ===== Load Query Data ====="
      ],
      "metadata": {
        "id": "4k3C1PDdLdja"
      }
    },
    {
      "cell_type": "code",
      "source": [
        "#print(root_dir)"
      ],
      "metadata": {
        "id": "eh_AZvLlTjaP"
      },
      "execution_count": null,
      "outputs": []
    },
    {
      "cell_type": "code",
      "source": [
        "# we read the drug side effect associations generated for 200 drugs\n",
        "query_data = pd.read_excel(root_dir + '/data/drug_side_effectsALLdrugs_10randomADRs.xlsx')\n",
        "#query_data = pd.read_excel(root_dir + '/data/drug_side_effects200drugs.xlsx')\n",
        "#query_data = pd.read_excel(root_dir + '/data/drug_side_effects20rows.xlsx')\n",
        "#query_data = pd.read_excel(root_dir + '/data/drug_side_effects1rows.xlsx')"
      ],
      "metadata": {
        "id": "SgMGWNcCC7tE"
      },
      "execution_count": null,
      "outputs": []
    },
    {
      "cell_type": "markdown",
      "source": [
        "# ===== AWS Bedrock Stuff ====="
      ],
      "metadata": {
        "id": "EuUg98lpPAbg"
      }
    },
    {
      "cell_type": "code",
      "source": [
        "import requests\n",
        "\n",
        "# Define a function to make an API POST request to AWS Bedrock\n",
        "def http_post_to_aws_bedrock(prompt):\n",
        "    url = AWS_BEDROCK_URL\n",
        "    payload = {\n",
        "        \"prompt\": prompt,\n",
        "    }\n",
        "    try:\n",
        "        response = requests.post(url, json=payload)\n",
        "        response.raise_for_status()  # Raise an error for bad status codes\n",
        "\n",
        "        # Assuming the response is in text format (you can switch to .json() if needed)\n",
        "        return response.text\n",
        "    except requests.exceptions.RequestException as e:\n",
        "        return {\"error\": str(e)}"
      ],
      "metadata": {
        "id": "fi_n0si1EYG7"
      },
      "execution_count": null,
      "outputs": []
    },
    {
      "cell_type": "markdown",
      "source": [
        "# ===== Using OpenAI to compute embedding ====="
      ],
      "metadata": {
        "id": "heuuECxRwJqf"
      }
    },
    {
      "cell_type": "code",
      "source": [
        "%pip install openai"
      ],
      "metadata": {
        "id": "y1AWshFDwNaF"
      },
      "execution_count": null,
      "outputs": []
    },
    {
      "cell_type": "code",
      "source": [
        "import openai"
      ],
      "metadata": {
        "id": "hwswDZ-zwOro"
      },
      "execution_count": null,
      "outputs": []
    },
    {
      "cell_type": "code",
      "source": [
        "from openai import OpenAI\n",
        "client = OpenAI()\n",
        "\n",
        "def get_embedding(text, model=\"text-embedding-ada-002\"):\n",
        "   #text = text.replace(\"\\n\", \" \")\n",
        "   return client.embeddings.create(input = [text], model=model).data[0].embedding"
      ],
      "metadata": {
        "id": "8F-smG_2wOvV"
      },
      "execution_count": null,
      "outputs": []
    },
    {
      "cell_type": "code",
      "source": [
        "print(get_embedding(\"Hello world\"))"
      ],
      "metadata": {
        "id": "GRFrq9lPwOyr"
      },
      "execution_count": null,
      "outputs": []
    },
    {
      "cell_type": "markdown",
      "source": [
        "# ===== Filter RAG ====="
      ],
      "metadata": {
        "id": "Fp-dR0p00KvL"
      }
    },
    {
      "cell_type": "code",
      "source": [
        "def filter_rag(rag_results: list = [], terms: list = []) -> list:\n",
        "    \"\"\"\n",
        "    This function filters the list of strings (`rag_results`) by checking if they contain all of the specified search terms in the `terms` list.\n",
        "\n",
        "    Args:\n",
        "        rag_results (list): A list of strings returned from a RAG (Retrieval-Augmented Generation) query.\n",
        "        terms (list): A list of strings that should be present in the results for them to be included in the filtered list.\n",
        "\n",
        "    Returns:\n",
        "        list: A list of strings from `rag_results` that contain all the strings in the `terms` list.\n",
        "              The order of strings in the returned list will be the same as in the input list.\n",
        "    \"\"\"\n",
        "    filtered_results = []\n",
        "\n",
        "    for result in rag_results:\n",
        "        if all(term.lower() in result[\"text\"].lower() for term in terms):\n",
        "            filtered_results.append(result)\n",
        "\n",
        "    if len(filtered_results) == 0:\n",
        "        filtered_results.append({\"text\": \"No, the side effect \" + terms[1] + \" is not listed as an adverse effect, adverse reaction or side effect of the drug \" + terms[0]})\n",
        "    return filtered_results\n"
      ],
      "metadata": {
        "id": "rGN8zWC50LM1"
      },
      "execution_count": null,
      "outputs": []
    },
    {
      "cell_type": "markdown",
      "source": [
        "# ===== Pinecone VectorDB for RAG ====="
      ],
      "metadata": {
        "id": "HtOxVnfLYdrJ"
      }
    },
    {
      "cell_type": "code",
      "source": [
        "# To install with gRPC run:\n",
        "#%pip install \"pinecone-client[grpc]\"\n",
        "\n",
        "# To install without gRPC run:\n",
        "%pip install pinecone-client"
      ],
      "metadata": {
        "id": "JIj03uqkYgn1"
      },
      "execution_count": null,
      "outputs": []
    },
    {
      "cell_type": "code",
      "source": [
        "#from pinecone.grpc import PineconeGRPC as Pinecone\n",
        "from pinecone import Pinecone\n",
        "from pinecone import ServerlessSpec"
      ],
      "metadata": {
        "id": "Lezyi_SqYh89"
      },
      "execution_count": null,
      "outputs": []
    },
    {
      "cell_type": "code",
      "source": [
        "pc = Pinecone(api_key=PINECONE_API_KEY)"
      ],
      "metadata": {
        "id": "6hN1poMOYiCS"
      },
      "execution_count": null,
      "outputs": []
    },
    {
      "cell_type": "code",
      "source": [
        "def query_pinecone_old(query_embedding_vector, namespace=\"drug-side-effects-formatA\", top_k=1):\n",
        "    # Pinecone Index\n",
        "    index_name = \"drug-side-effects-text-embedding-ada-002\"\n",
        "    index = pc.Index(index_name)\n",
        "\n",
        "    query_results = index.query(\n",
        "        namespace=namespace,\n",
        "        vector=query_embedding_vector,\n",
        "        top_k=top_k,\n",
        "        include_values=True,\n",
        "        #include_values=False,\n",
        "        include_metadata=True\n",
        "    )\n",
        "\n",
        "    # Retrieve metadata from the results\n",
        "    metadata_results = [match['metadata'] for match in query_results['matches']]\n",
        "    print(metadata_results)\n",
        "    #print(\"query_pinecone_result = \" + query_results[\"metadata\"][\"text\"])\n",
        "    #return query_results[\"metadata\"][\"text\"]\n",
        "    return metadata_results\n"
      ],
      "metadata": {
        "id": "fABK9Y-bke0T"
      },
      "execution_count": null,
      "outputs": []
    },
    {
      "cell_type": "code",
      "source": [
        "def query_pinecone(query_embedding_vector, namespace=\"drug-side-effects-formatA\", top_k=1):\n",
        "    \"\"\"\n",
        "    Queries a Pinecone index with a given query embedding vector and retrieves metadata from the matched results.\n",
        "\n",
        "    Parameters:\n",
        "    -----------\n",
        "    query_embedding_vector : list or numpy.ndarray\n",
        "        The embedding vector used to query the Pinecone index. This should be a vector that represents the query in the same embedding space as the indexed data.\n",
        "\n",
        "    namespace : str, optional\n",
        "        The namespace within the Pinecone index to query. This allows for segmentation of data within the same index.\n",
        "        The default is \"drug-side-effects-formatA\".\n",
        "\n",
        "    top_k : int, optional\n",
        "        The number of top results to return based on similarity to the query embedding vector. The default is 1.\n",
        "\n",
        "    Returns:\n",
        "    --------\n",
        "    metadata_results : list[dict]\n",
        "        A list of metadata dictionaries from the matched results. Each dictionary contains metadata associated with a match from the Pinecone index.\n",
        "\n",
        "    Example:\n",
        "    --------\n",
        "    >>> query_embedding_vector = [0.1, 0.2, 0.3, 0.4]\n",
        "    >>> metadata = query_pinecone(query_embedding_vector, top_k=5)\n",
        "    >>> print(metadata)\n",
        "    [{'text': 'example text 1', ...}, {'text': 'example text 2', ...}, ...]\n",
        "    \"\"\"\n",
        "    # Pinecone Index\n",
        "    index_name = \"drug-side-effects-text-embedding-ada-002\"\n",
        "    index = pc.Index(index_name)\n",
        "\n",
        "    query_results = index.query(\n",
        "        namespace=namespace,\n",
        "        vector=query_embedding_vector,\n",
        "        top_k=top_k,\n",
        "        include_values=True,\n",
        "        include_metadata=True\n",
        "    )\n",
        "\n",
        "    # Retrieve metadata from the results\n",
        "    metadata_results = [match['metadata'] for match in query_results['matches']]\n",
        "    print(metadata_results)\n",
        "    return metadata_results\n"
      ],
      "metadata": {
        "id": "Gor71y8T81sT"
      },
      "execution_count": null,
      "outputs": []
    },
    {
      "cell_type": "code",
      "source": [
        "def rag_query(query, namespace, drug_name, side_effect):\n",
        "    # Send POST request to AWS Bedrock for RAG query\n",
        "    # Replace with the actual implementation\n",
        "    embedding = get_embedding(text=query)\n",
        "    #response = post_data({\"prompt\": query})\n",
        "    rag_results = query_pinecone(query_embedding_vector=embedding, namespace=namespace, top_k = 5)\n",
        "    print(\"rag_query rag_results = \" + str(rag_results))\n",
        "\n",
        "    filtered_rag_results = filter_rag(rag_results=rag_results, terms=[drug_name, side_effect])\n",
        "    print(\"rag_query filtered_rag_results = \" + str(filtered_rag_results))\n",
        "\n",
        "    str_rag_results = \"\\n\\n### RAG Results:\\n\\n\"\n",
        "    for filtered_result in filtered_rag_results:\n",
        "        print(\"rag_query filtered_result = \" + str(filtered_result))\n",
        "        str_rag_results += filtered_result[\"text\"] + \"\\n\\n\"\n",
        "    print(\"rag_query str_rag_results = \" + str_rag_results)\n",
        "\n",
        "    #modified_rag_prompt = \"Answer the following question starting with YES or NO followed by explanation. Your answer should be short, succinct, and to the point. Do not embellish your answer or acknowledg that this is a great question etc. Use the RAG Results to help formulate and generate your answer.\\n\\n\" + \"### Question:\\n\\n\" + query + \"\\n\\n\" + rag_results\n",
        "    modified_rag_prompt = \"You are asked to answer the following question with a single word: YES or NO. Base your answer strictly on the RAG Results provided below. After your YES or NO answer, briefly explain your reasoning using the information from the RAG Results. Do not infer or speculate beyond the provided information.\\n\\n\" + \"### Question:\\n\\n\" + query + \"\\n\\n\" + str_rag_results\n",
        "\n",
        "    print(\"modified_rag_prompt = \" + str(modified_rag_prompt))\n",
        "    response = http_post_to_aws_bedrock({\"prompt\": modified_rag_prompt})\n",
        "\n",
        "    # This is assuming response is JSON\n",
        "    # Not really because http_post_to_aws_bedrock is also making this assumption so handle the JSON there\n",
        "    return response"
      ],
      "metadata": {
        "id": "Da6krUTVEYJZ"
      },
      "execution_count": null,
      "outputs": []
    },
    {
      "cell_type": "markdown",
      "source": [
        "# ----- RAG Testing -----\n"
      ],
      "metadata": {
        "id": "9ASLZczv-S9o"
      }
    },
    {
      "cell_type": "code",
      "source": [
        "print(rag_query(\"Is diabetic hyperosmolar coma an adverse effect of econazole?\", \"drug-side-effects-formatA\", \"econazole\", \"diabetic hyperosmolar coma\"))"
      ],
      "metadata": {
        "id": "gRcvNRDMurbQ"
      },
      "execution_count": null,
      "outputs": []
    },
    {
      "cell_type": "code",
      "source": [
        "print(rag_query(\"Is carpal tunnel syndrome an adverse effect of tesamorelin?\", \"drug-side-effects-formatA\", \"tesamorelin\", \"carpal tunnel syndrome\"))"
      ],
      "metadata": {
        "id": "8G0RCMeAv1y1"
      },
      "execution_count": null,
      "outputs": []
    },
    {
      "cell_type": "code",
      "source": [
        "print(rag_query(\"Is haemoglobin an adverse effect of tesamorelin?\", \"drug-side-effects-formatA\", \"tesamorelin\", \"haemoglobin\"))"
      ],
      "metadata": {
        "id": "h6djci6uv1_O"
      },
      "execution_count": null,
      "outputs": []
    },
    {
      "cell_type": "code",
      "source": [
        "print(rag_query(\"Is skin reaction an adverse effect of lomustine?\", \"drug-side-effects-formatB\", \"lomustine\", \"skin reaction\"))"
      ],
      "metadata": {
        "id": "PKg61238-TWo"
      },
      "execution_count": null,
      "outputs": []
    },
    {
      "cell_type": "code",
      "source": [
        "print(rag_query(\"Is infusion site paraesthesia an adverse effect of lomustine?\", \"drug-side-effects-formatB\", \"lomustine\", \"infusion site paraesthesia\"))"
      ],
      "metadata": {
        "id": "JURC5-he_2gx"
      },
      "execution_count": null,
      "outputs": []
    },
    {
      "cell_type": "code",
      "source": [
        "print(rag_query(\"Is meningioma an adverse effect of gadobenate?\", \"drug-side-effects-formatA\", \"gadobenate\", \"meningioma\"))"
      ],
      "metadata": {
        "id": "DaeuHrrvZbW5"
      },
      "execution_count": null,
      "outputs": []
    },
    {
      "cell_type": "code",
      "source": [
        "print(rag_query(\"Is microcephaly an adverse effect of gadobenate?\", \"drug-side-effects-formatA\", \"gadobenate\", \"microcephaly\"))"
      ],
      "metadata": {
        "id": "DG0T5FCxbqGx"
      },
      "execution_count": null,
      "outputs": []
    },
    {
      "cell_type": "code",
      "source": [
        "print(rag_query(\"Is abnormal dreams an adverse effect of gadobenate?\", \"drug-side-effects-formatA\", \"gadobenate\", \"abnormal dreams\"))"
      ],
      "metadata": {
        "id": "lvO3WcLxbz4P"
      },
      "execution_count": null,
      "outputs": []
    },
    {
      "cell_type": "code",
      "source": [
        "print(rag_query(\"Is abnormal dreams an adverse effect of gadobenate?\", \"drug-side-effects-formatB\", \"gadobenate\", \"abnormal dreams\"))"
      ],
      "metadata": {
        "id": "K4UIajMvcAw8"
      },
      "execution_count": null,
      "outputs": []
    },
    {
      "cell_type": "markdown",
      "source": [
        "# ===== GraphRAG Stuff ====="
      ],
      "metadata": {
        "id": "1o3qYo_qaxVj"
      }
    },
    {
      "cell_type": "code",
      "source": [
        "#%pip install --upgrade --quiet  langchain langchain-community langchain-openai langchain-experimental neo4j\n",
        "%pip install --upgrade neo4j"
      ],
      "metadata": {
        "id": "9Phe9Uw3nDjg"
      },
      "execution_count": null,
      "outputs": []
    },
    {
      "cell_type": "code",
      "source": [
        "from neo4j import GraphDatabase\n",
        "import os"
      ],
      "metadata": {
        "id": "6JeC822JmX6X"
      },
      "execution_count": null,
      "outputs": []
    },
    {
      "cell_type": "code",
      "source": [
        "from neo4j import GraphDatabase\n",
        "\n",
        "# create a neo4j session to run queries\n",
        "neo4j_driver = GraphDatabase.driver(\n",
        "    uri = os.environ[\"NEO4J_URI\"],\n",
        "    auth = (os.environ[\"NEO4J_USERNAME\"],\n",
        "            os.environ[\"NEO4J_PASSWORD\"]))\n",
        "\n",
        "#session = driver.session()"
      ],
      "metadata": {
        "id": "k2C1CjMsa1Eb"
      },
      "execution_count": null,
      "outputs": []
    },
    {
      "cell_type": "code",
      "source": [
        "# directly show the graph resulting from the given Cypher query\n",
        "default_cypher = \"MATCH (s)-[r:May_Cause_Side_Effect]->(t) RETURN s,r,t LIMIT 5\"\n",
        "\n",
        "#default_cypher = \"\"\"\n",
        "#MATCH (s)-[r:May_Cause_Side_Effect]->(t)\n",
        "#WHERE s.name = 'carnitine' AND t.name = 'amblyopia'\n",
        "#RETURN s, r, t\n",
        "#\"\"\""
      ],
      "metadata": {
        "id": "ZRTPshpma1K7"
      },
      "execution_count": null,
      "outputs": []
    },
    {
      "cell_type": "code",
      "source": [
        "import re\n",
        "from neo4j import GraphDatabase\n",
        "\n",
        "def escape_special_characters(input_string):\n",
        "    # Escape special characters for Neo4j Cypher strings\n",
        "    return re.sub(r\"(['\\\\])\", r\"\\\\\\1\", input_string)\n",
        "\n",
        "def graphrag_query_drug_side_effect(query, drug_name, side_effect):\n",
        "    # Escape the drug name and side effect strings to handle special characters\n",
        "    drug_name = escape_special_characters(drug_name)\n",
        "    side_effect = escape_special_characters(side_effect)\n",
        "\n",
        "    drug_name_lower = drug_name.lower()\n",
        "    side_effect_lower = side_effect.lower()\n",
        "\n",
        "    cypher = f\"\"\"\n",
        "    MATCH (s)-[r:May_Cause_Side_Effect]->(t)\n",
        "    WHERE s.name = '{drug_name_lower}' AND t.name = '{side_effect_lower}'\n",
        "    RETURN s, r, t\n",
        "    \"\"\"\n",
        "\n",
        "    with neo4j_driver.session() as session:\n",
        "        # Run the Cypher query\n",
        "        cypher_result = session.run(cypher)\n",
        "\n",
        "        # Prepare the output list\n",
        "        connected_nodes = []\n",
        "        for record in cypher_result:\n",
        "            s = record['s']\n",
        "            r = record['r']\n",
        "            t = record['t']\n",
        "\n",
        "            # Extract the 'name' property from the source and target nodes\n",
        "            source_name = s.get('name', 'Unknown')\n",
        "            target_name = t.get('name', 'Unknown')\n",
        "\n",
        "            # Format the output string\n",
        "            connected_nodes.append(\n",
        "                f\"{source_name} may cause side effect {target_name}\"\n",
        "            )\n",
        "\n",
        "    if len(connected_nodes) > 0:\n",
        "        #query_result = side_effect + \" is an adverse effect of  \" + drug_name\n",
        "        query_result = \"Yes, the side effect \" + side_effect + \" is listed as an adverse effect, adverse reaction or side effect of the drug \" + drug_name\n",
        "    else:\n",
        "        #query_result = side_effect  + \" is not an adverse effect of \" + drug_name\n",
        "        query_result = \"No, the side effect \" + side_effect + \" is not listed as an adverse effect, adverse reaction or side effect of the drug \" + drug_name\n",
        "\n",
        "    #return query_result\n",
        "\n",
        "    #=======================\n",
        "    graphrag_results = \"\\n\\n### GraphRAG Results:\\n\\n\" + query_result + \"\\n\\n\"\n",
        "    #for result in results:\n",
        "    #    print(\"rag_query result = \" + str(result))\n",
        "    #    rag_results += result[\"text\"] + \"\\n\\n\"\n",
        "    print(\"graphrag_query graphrag_results = \" + graphrag_results)\n",
        "\n",
        "    #modified_graphrag_prompt = \"Answer the following question starting with YES or NO followed by explanation. Your answer should be short, succinct, and to the point. Do not embellish your answer or acknowledge that this is a great question etc. Use the GraphRAG Results to help formulate and generate your answer.\\n\\n\" + \"### Question:\\n\\n\" + query + \"\\n\\n\" + graphrag_results\n",
        "    modified_graphrag_prompt = \"You are asked to answer the following question with a single word: YES or NO. Base your answer strictly on the GraphRAG Results provided below. After your YES or NO answer, briefly explain your reasoning using the information from the GraphRAG Results. Do not infer or speculate beyond the provided information.\\n\\n\" + \"### Question:\\n\\n\" + query + \"\\n\\n\" + graphrag_results\n",
        "    print(\"modified_graphrag_prompt = \" + str(modified_graphrag_prompt))\n",
        "    response = http_post_to_aws_bedrock({\"prompt\": modified_graphrag_prompt})\n",
        "\n",
        "    #===============================\n",
        "    return response\n",
        "\n",
        "\n",
        "## Example usage\n",
        "#neo4j_driver = GraphDatabase.driver(\n",
        "#    uri=os.environ[\"NEO4J_URI\"],\n",
        "#    auth=(os.environ[\"NEO4J_USERNAME\"], os.environ[\"NEO4J_PASSWORD\"])\n",
        "#)\n",
        "#\n",
        "#result = graphrag_query_drug_side_effect(\"hydralazine\", \"hodgkin's disease lymphocyte depletion type stage unspecified\")\n",
        "#print(result)"
      ],
      "metadata": {
        "id": "Z0twwq_dFo7g"
      },
      "execution_count": null,
      "outputs": []
    },
    {
      "cell_type": "markdown",
      "source": [
        "# ===== GraphRAG Testing ====="
      ],
      "metadata": {
        "id": "xkF7yph09H0B"
      }
    },
    {
      "cell_type": "code",
      "source": [
        "# Example usage\n",
        "#default_cypher = \"MATCH (s)-[r:May_Cause_Side_Effect]->(t) RETURN s, r, t LIMIT 5\"\n",
        "#connected_nodes_string = graphrag_query(default_cypher)\n",
        "#print(connected_nodes_string)"
      ],
      "metadata": {
        "id": "NWTjOlM66_Ag"
      },
      "execution_count": null,
      "outputs": []
    },
    {
      "cell_type": "code",
      "source": [
        "print(graphrag_query_drug_side_effect(\"Does carnitine cause amblyopia?\", \"carnitine\", \"amblyopia\"))"
      ],
      "metadata": {
        "id": "WdxQ55cOlxH1"
      },
      "execution_count": null,
      "outputs": []
    },
    {
      "cell_type": "code",
      "source": [
        "print(graphrag_query_drug_side_effect(\"Does carnitine cause euphoria?\", \"carnitine\", \"euphoria\"))"
      ],
      "metadata": {
        "id": "NcD12m-WqmKK"
      },
      "execution_count": null,
      "outputs": []
    },
    {
      "cell_type": "code",
      "source": [
        "print(graphrag_query_drug_side_effect(\"Does Estrofem cause Depression?\", \"estrofem\", \"Depression\"))"
      ],
      "metadata": {
        "id": "ANlMQgd9a1SM"
      },
      "execution_count": null,
      "outputs": []
    },
    {
      "cell_type": "code",
      "source": [
        "print(graphrag_query_drug_side_effect(\"Is sebaceous hyperplasia an adverse effect of gemeprost?\", \"gemeprost\", \"sebaceous hyperplasia\"))"
      ],
      "metadata": {
        "id": "kPunDY_8a1VP"
      },
      "execution_count": null,
      "outputs": []
    },
    {
      "cell_type": "markdown",
      "source": [
        "# Parallelized version of original code"
      ],
      "metadata": {
        "id": "ba6YCwgVWV74"
      }
    },
    {
      "cell_type": "code",
      "source": [
        "import pandas as pd\n",
        "import concurrent.futures\n",
        "from tqdm import tqdm\n",
        "import requests"
      ],
      "metadata": {
        "id": "3uudf6UDEYD_"
      },
      "execution_count": null,
      "outputs": []
    },
    {
      "cell_type": "code",
      "source": [
        "def llm(prompt):\n",
        "    # Send POST request to AWS Bedrock with the prompt\n",
        "    modified_prompt = \"You are asked to answer the following question with a single word: YES or NO. Base your answer strictly on the GraphRAG Results provided below. After your YES or NO answer, briefly explain your reasoning.\\n\\n\" + \"### Question:\\n\\n\" + prompt\n",
        "\n",
        "    print(\"modified_prompt = \" + str(modified_prompt))\n",
        "    response = http_post_to_aws_bedrock({\"prompt\": modified_prompt})\n",
        "    #print(\"response = \" + str(response))\n",
        "    # This is assuming response is JSON\n",
        "    # Not really because http_post_to_aws_bedrock is also making this assumption so handle the JSON there\n",
        "    return response"
      ],
      "metadata": {
        "id": "-g614UWeDOdP"
      },
      "execution_count": null,
      "outputs": []
    },
    {
      "cell_type": "code",
      "source": [
        "def binary_answer(text):\n",
        "    print(\"binary_answer text = \" + str(text))\n",
        "    return 1 if 'YES' in text else 0"
      ],
      "metadata": {
        "id": "UxZaRZWUE5KZ"
      },
      "execution_count": null,
      "outputs": []
    },
    {
      "cell_type": "code",
      "source": [
        "def process_row(i, query_data, questions):\n",
        "    results = {}\n",
        "    se = query_data.iloc[i]['side effect'].lower()\n",
        "    drug_name = query_data.iloc[i]['drug name']\n",
        "    label = query_data.iloc[i]['label']\n",
        "\n",
        "    for c, question in enumerate(questions):\n",
        "        q = question.replace('[SE]', se).replace('[DRUG]', drug_name)\n",
        "        print(\"q = \" + str(q))\n",
        "\n",
        "        # Method 1: Basic LLM\n",
        "        response_llm = llm(prompt=q)\n",
        "        print(\"response_llm = \" + str(response_llm))\n",
        "\n",
        "        # Method 2: LLM + RAG A\n",
        "        response_rag_A = rag_query(query=q, namespace=\"drug-side-effects-formatA\", drug_name=drug_name, side_effect=se)\n",
        "        print(\"response_rag_A = \" + str(response_rag_A))\n",
        "\n",
        "        # Method 3: LLM + RAG B\n",
        "        response_rag_B = rag_query(query=q, namespace=\"drug-side-effects-formatB\", drug_name=drug_name, side_effect=se)\n",
        "        print(\"response_rag_B = \" + str(response_rag_B))\n",
        "\n",
        "        # This needs to be reimplemented to use GraphRAG\n",
        "        # Method 4: LLM + Graph RAG\n",
        "        #if label == 1:\n",
        "        #    temp = f\"Answer the following question based on this information: The drug {drug_name} causes the adverse effect {se}. \"\n",
        "        #else:\n",
        "        #    temp = f\"Answer the following question based on this information: The drug {drug_name} does not cause the adverse effect {se}. \"\n",
        "        #response_graph_rag = llm(prompt=temp + q)\n",
        "        response_graph_rag = graphrag_query_drug_side_effect(query=q, drug_name=drug_name, side_effect=se)\n",
        "        print(\"response_graph_rag = \" + str(response_graph_rag))\n",
        "\n",
        "        # Store results in the dictionary\n",
        "        results['prompt' + str(c + 1)] = q\n",
        "        results['output_llm' + str(c + 1)] = binary_answer(response_llm)\n",
        "        results['output_ragA' + str(c + 1)] = binary_answer(response_rag_A)\n",
        "        results['output_ragB' + str(c + 1)] = binary_answer(response_rag_B)\n",
        "        results['output_graphrag' + str(c + 1)] = binary_answer(response_graph_rag)\n",
        "\n",
        "    return i, results"
      ],
      "metadata": {
        "id": "NNV_gi1pWS5c"
      },
      "execution_count": null,
      "outputs": []
    },
    {
      "cell_type": "code",
      "source": [
        "def update_dataframe(query_data, questions):\n",
        "    with concurrent.futures.ThreadPoolExecutor() as executor:\n",
        "        # Use a list comprehension to map process_row function over the DataFrame indices\n",
        "        futures = [executor.submit(process_row, i, query_data, questions) for i in range(query_data.shape[0])]\n",
        "\n",
        "        #for future in tqdm(concurrent.futures.as_completed(futures), total=len(futures)):\n",
        "        for future in concurrent.futures.as_completed(futures): #, total=len(futures):\n",
        "            i, results = future.result()\n",
        "            # Update the DataFrame with the results\n",
        "            for key, value in results.items():\n",
        "                query_data.loc[i, key] = value"
      ],
      "metadata": {
        "id": "jUSSQXCjEv1V"
      },
      "execution_count": null,
      "outputs": []
    },
    {
      "cell_type": "code",
      "source": [
        "# Main logic\n",
        "if True:  # Placeholder for your condition\n",
        "    questions = ['Is [SE] an adverse effect of [DRUG]?']\n",
        "    update_dataframe(query_data, questions)\n",
        "\n",
        "    # Save the results\n",
        "    query_data.to_excel(root_dir + '/results/results_model_' + str(model_selected)+'_ALLdrugs_10randomADRs.xlsx')\n",
        "    #query_data.to_excel(root_dir + '/results/results_model_' + str(model_selected)+'_200drugs.xlsx')\n",
        "    #query_data.to_excel(root_dir + '/results/results_model_' + str(model_selected)+'_20rows.xlsx')\n",
        "    #query_data.to_excel(root_dir + '/results/results_model_' + str(model_selected)+'_1rows.xlsx')"
      ],
      "metadata": {
        "id": "BBCRJPffEwE1"
      },
      "execution_count": null,
      "outputs": []
    }
  ],
  "metadata": {
    "colab": {
      "provenance": [],
      "include_colab_link": true
    },
    "kernelspec": {
      "display_name": "Python 3",
      "name": "python3"
    },
    "language_info": {
      "codemirror_mode": {
        "name": "ipython",
        "version": 3
      },
      "file_extension": ".py",
      "mimetype": "text/x-python",
      "name": "python",
      "nbconvert_exporter": "python",
      "pygments_lexer": "ipython3",
      "version": "3.9.12"
    }
  },
  "nbformat": 4,
  "nbformat_minor": 0
}